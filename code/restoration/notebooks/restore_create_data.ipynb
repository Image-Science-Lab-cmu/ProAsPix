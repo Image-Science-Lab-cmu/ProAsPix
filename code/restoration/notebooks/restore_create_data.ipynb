{
 "cells": [
  {
   "cell_type": "markdown",
   "source": [
    "# Training Dataset Creation\n",
    "\n",
    "Create training and validation pth files from the data.mat files of processed scenes."
   ],
   "metadata": {}
  },
  {
   "cell_type": "code",
   "execution_count": null,
   "source": [
    "import h5py\n",
    "import os\n",
    "import matplotlib.pyplot as plt\n",
    "import numpy as np\n",
    "import scipy.io as sio\n",
    "from scipy.interpolate import interp1d\n",
    "import sys\n",
    "import copy \n",
    "import torch\n",
    "\n",
    "sys.path.append('../functions/')\n",
    "from helpers import crop_center_array\n",
    "\n",
    "%matplotlib widget\n",
    "%load_ext autoreload\n",
    "%autoreload 2"
   ],
   "outputs": [],
   "metadata": {
    "ExecuteTime": {
     "end_time": "2021-04-22T01:21:31.825962Z",
     "start_time": "2021-04-22T01:21:30.374006Z"
    },
    "execution": {
     "iopub.execute_input": "2021-07-08T18:18:01.406892Z",
     "iopub.status.busy": "2021-07-08T18:18:01.406435Z",
     "iopub.status.idle": "2021-07-08T18:18:07.704056Z",
     "shell.execute_reply": "2021-07-08T18:18:07.702838Z",
     "shell.execute_reply.started": "2021-07-08T18:18:01.406757Z"
    },
    "tags": []
   }
  },
  {
   "cell_type": "code",
   "execution_count": null,
   "source": [
    "# training \n",
    "scene_names_train = [\n",
    "    '0625.1013.Rulers', \n",
    "    '0625.1027.Markers', \n",
    "    '0625.1106.YellowLED', \n",
    "    '0625.1126.Newport', \n",
    "    '0625.1135.Feathers', \n",
    "    '0625.1342.NewportBird', \n",
    "    '0625.1412.Elephant', \n",
    "    '0625.1439.Cat', \n",
    "    '0625.1501.TriceraEKE', \n",
    "    '0625.1524.BearChopper', \n",
    "    '0625.1533.Pony',\n",
    "    '0628.1352.TheHumanCondition',\n",
    "    '0628.1404.Slinkies',\n",
    "    '0628.1425.HeatSink',\n",
    "    '0628.1436.Cups'\n",
    "]\n",
    "\n",
    "# validation \n",
    "scene_names_val = [\n",
    "    '0625.1036.MatroshkaSplit', \n",
    "    '0625.1357.SigCup', \n",
    "    '0625.1510.TriceraLED', \n",
    "    '0625.1544.Island', \n",
    "    '0625.1552.MatroshkaSmall',\n",
    "    '0628.1143.FlowersEKE',\n",
    "    '0628.1154.Tulips',\n",
    "    '0628.1448.Wood'\n",
    "]\n",
    "\n",
    "# Creation of a single pth file for all test data scenes is not needed. \n",
    "# Use restore_create_data_single_image.ipynb to create scenewise pth files.\n",
    "# scene_names_test = [\n",
    "#         '0625.0928.CheckerEKE', \n",
    "#         '0625.0938.CheckerLED', \n",
    "#         '0625.0955.HHPainting', \n",
    "#         '0625.1049.MatroshkaFamily', \n",
    "#         '0625.1331.FeathersZoom', \n",
    "#         '0628.1131.Flowers',\n",
    "#         '0628.1229.Feathers',\n",
    "#         '0628.1303.Painting',\n",
    "#         '0628.1316.Chopper',\n",
    "#         '0628.1332.SpectralonEKE',\n",
    "#         '0628.1332.SpectralonLED'\n",
    "# ]"
   ],
   "outputs": [],
   "metadata": {
    "ExecuteTime": {
     "end_time": "2021-04-22T01:21:31.833130Z",
     "start_time": "2021-04-22T01:21:31.828598Z"
    },
    "execution": {
     "iopub.execute_input": "2021-07-08T18:18:08.961249Z",
     "iopub.status.busy": "2021-07-08T18:18:08.960780Z",
     "iopub.status.idle": "2021-07-08T18:18:08.988788Z",
     "shell.execute_reply": "2021-07-08T18:18:08.987837Z",
     "shell.execute_reply.started": "2021-07-08T18:18:08.961194Z"
    },
    "tags": []
   }
  },
  {
   "cell_type": "code",
   "execution_count": null,
   "source": [
    "PROCESSEDDATA_DIR = 'Box/data/Processed/'\n",
    "SAVEPTHFILE_DIR = '../data/restore/'\n",
    "\n",
    "# Choose 'train' or 'val'\n",
    "dataset_type = 'train' \n",
    "crop_size = 1024\n",
    "num_patterns = 92\n",
    "\n",
    "save_pthfile_train = '0625' + '_data4b_' + dataset_type + '_' + str(crop_size) + 'x' + str(crop_size) + '.pth'\n",
    "\n",
    "if dataset_type == 'train': scene_names = scene_names_train\n",
    "if dataset_type == 'val': scene_names = scene_names_val\n",
    "if dataset_type == 'test': scene_names = scene_names_test\n",
    "\n",
    "num_scenes = len(scene_names)\n",
    "\n",
    "if crop_size:\n",
    "    assort_meas_t = torch.zeros((num_scenes, num_patterns, crop_size, crop_size))\n",
    "    assort_sim_t = torch.zeros((num_scenes, num_patterns, crop_size, crop_size))\n",
    "    assort_index_t = torch.zeros((num_scenes, num_patterns, crop_size, crop_size))\n",
    "    guide_image_t = torch.zeros((num_scenes, 3, crop_size, crop_size))\n",
    "\n",
    "for i, scene_name in enumerate(scene_names):\n",
    "    data_matfile = PROCESSEDDATA_DIR + '/' + scene_name + '/data.mat'\n",
    "    print(f'{i}/{num_scenes} {data_matfile}')\n",
    "    data = sio.loadmat(data_matfile)\n",
    "\n",
    "    assort_sim = data['assort_sim'].astype(float)\n",
    "    assort_meas = data['assort_meas'].astype(float)\n",
    "    assort_index = data['assort_index'].astype(float)\n",
    "    guide_image = data['guide'].astype(float)\n",
    "    \n",
    "    if crop_size:\n",
    "        assort_sim = crop_center_array(assort_sim, crop_size, crop_size)\n",
    "        assort_meas = crop_center_array(assort_meas, crop_size, crop_size)\n",
    "        assort_index = crop_center_array(assort_index, crop_size, crop_size)\n",
    "        guide_image = crop_center_array(guide_image, crop_size, crop_size)\n",
    "    \n",
    "    assort_sim = assort_sim.transpose(2,0,1)\n",
    "    assort_meas = assort_meas.transpose(2,0,1) \n",
    "    assort_index = assort_index.transpose(2,0,1) \n",
    "    guide_image = guide_image.transpose(2,0,1) \n",
    "    \n",
    "    assort_sim_t[i] = torch.tensor(assort_sim, dtype=torch.float)\n",
    "    assort_meas_t[i] = torch.tensor(assort_meas, dtype=torch.float)\n",
    "    assort_index_t[i] = torch.tensor(assort_index, dtype=torch.float)\n",
    "    guide_image_t[i] = torch.tensor(guide_image, dtype=torch.float)\n",
    "    \n",
    "torch.save({'assort_sim': assort_sim_t.detach().clone(),\n",
    "            'assort_meas': assort_meas_t.detach().clone(),\n",
    "            'assort_index': assort_index_t.detach().clone(),\n",
    "            'guide_image': guide_image_t.detach().clone()\n",
    "           }, \n",
    "           os.path.join(SAVEPTHFILE_DIR, save_pthfile_train))"
   ],
   "outputs": [],
   "metadata": {
    "ExecuteTime": {
     "end_time": "2021-04-22T01:21:31.833130Z",
     "start_time": "2021-04-22T01:21:31.828598Z"
    },
    "execution": {
     "iopub.execute_input": "2021-07-08T18:23:44.579538Z",
     "iopub.status.busy": "2021-07-08T18:23:44.579222Z",
     "iopub.status.idle": "2021-07-08T18:28:09.703152Z",
     "shell.execute_reply": "2021-07-08T18:28:09.701942Z",
     "shell.execute_reply.started": "2021-07-08T18:23:44.579499Z"
    },
    "tags": []
   }
  }
 ],
 "metadata": {
  "kernelspec": {
   "display_name": "Python 3",
   "language": "python",
   "name": "python3"
  },
  "language_info": {
   "codemirror_mode": {
    "name": "ipython",
    "version": 3
   },
   "file_extension": ".py",
   "mimetype": "text/x-python",
   "name": "python",
   "nbconvert_exporter": "python",
   "pygments_lexer": "ipython3",
   "version": "3.7.9"
  },
  "toc": {
   "base_numbering": 1,
   "nav_menu": {
    "height": "320px",
    "width": "241px"
   },
   "number_sections": true,
   "sideBar": true,
   "skip_h1_title": false,
   "title_cell": "Table of Contents",
   "title_sidebar": "Contents",
   "toc_cell": false,
   "toc_position": {
    "height": "calc(100% - 180px)",
    "left": "10px",
    "top": "150px",
    "width": "286px"
   },
   "toc_section_display": true,
   "toc_window_display": false
  },
  "varInspector": {
   "cols": {
    "lenName": 16,
    "lenType": 16,
    "lenVar": 40
   },
   "kernels_config": {
    "python": {
     "delete_cmd_postfix": "",
     "delete_cmd_prefix": "del ",
     "library": "var_list.py",
     "varRefreshCmd": "print(var_dic_list())"
    },
    "r": {
     "delete_cmd_postfix": ") ",
     "delete_cmd_prefix": "rm(",
     "library": "var_list.r",
     "varRefreshCmd": "cat(var_dic_list()) "
    }
   },
   "position": {
    "height": "477.85px",
    "left": "1365px",
    "right": "20px",
    "top": "105px",
    "width": "446px"
   },
   "types_to_exclude": [
    "module",
    "function",
    "builtin_function_or_method",
    "instance",
    "_Feature"
   ],
   "window_display": false
  }
 },
 "nbformat": 4,
 "nbformat_minor": 5
}