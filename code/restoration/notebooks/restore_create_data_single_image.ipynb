{
 "cells": [
  {
   "cell_type": "markdown",
   "source": [
    "# Testing Dataset Creation\n",
    "\n",
    "Create testing pth files from the data.mat files of processed scenes, one pth file per scene."
   ],
   "metadata": {}
  },
  {
   "cell_type": "code",
   "execution_count": null,
   "source": [
    "import h5py\n",
    "import os\n",
    "import matplotlib.pyplot as plt\n",
    "import numpy as np\n",
    "import scipy.io as sio\n",
    "from scipy.interpolate import interp1d\n",
    "import sys\n",
    "import copy \n",
    "import torch\n",
    "\n",
    "sys.path.append('../functions/')\n",
    "from helpers import crop_center_array\n",
    "\n",
    "%matplotlib widget\n",
    "%load_ext autoreload\n",
    "%autoreload 2"
   ],
   "outputs": [],
   "metadata": {
    "ExecuteTime": {
     "end_time": "2021-04-22T01:21:31.825962Z",
     "start_time": "2021-04-22T01:21:30.374006Z"
    },
    "execution": {
     "iopub.execute_input": "2021-08-07T02:17:47.571278Z",
     "iopub.status.busy": "2021-08-07T02:17:47.570785Z",
     "iopub.status.idle": "2021-08-07T02:17:47.649420Z",
     "shell.execute_reply": "2021-08-07T02:17:47.648263Z",
     "shell.execute_reply.started": "2021-08-07T02:17:47.571216Z"
    },
    "tags": []
   }
  },
  {
   "cell_type": "code",
   "execution_count": null,
   "source": [
    "scene_names_test = [\n",
    "        '0625.0928.CheckerEKE', \n",
    "        '0625.0938.CheckerLED', \n",
    "        '0625.0955.HHPainting', \n",
    "        '0625.1049.MatroshkaFamily', \n",
    "        '0625.1331.FeathersZoom',\n",
    "        '0628.1131.Flowers',\n",
    "        '0628.1229.Feathers',\n",
    "        '0628.1303.Painting',\n",
    "        '0628.1316.Chopper',\n",
    "        '0628.1332.SpectralonEKE',\n",
    "        '0628.1332.SpectralonLED',\n",
    "        '0723.1436.ButterflyWhite', \n",
    "        '0723.1419.ButterflyOrange',\n",
    "        '0729.1303.ButterflyBrown',\n",
    "        '0729.1320.ButterflyOrangev2',\n",
    "        '0729.1337.ButterflyBlue',\n",
    "        '0729.1401.ButterflyTransp',\n",
    "        '0730.1448.TheBulb_16',\n",
    "        '0730.1448.TheBulb_33',\n",
    "        '0730.1529.Plants',\n",
    "        '0730.1551.CheckerCFL',\n",
    "        '0803.1155.Plants',\n",
    "        '0803.1155.Plants2',\n",
    "        '0806.1542.Plants3'\n",
    "]\n",
    "\n",
    "PROCESSEDDATA_DIR = 'Box/data/Processed/'\n",
    "SAVEPTHFILE_DIR = '../data/restore/'\n",
    "\n",
    "# Choose scene index one by one manually.\n",
    "scene_name = scene_names_test[0]\n",
    "save_pthfile_test = scene_name + '_data4_1024x1024.pth'\n",
    "\n",
    "crop_size = 1024\n",
    "\n",
    "data_matfile = PROCESSEDDATA_DIR + '/' + scene_name + '/data.mat'\n",
    "data = sio.loadmat(data_matfile)\n",
    "\n",
    "assort_sim = data['assort_sim'].astype(float)\n",
    "assort_meas = data['assort_meas'].astype(float)\n",
    "assort_index = data['assort_index'].astype(float)\n",
    "guide_image = data['guide'].astype(float)\n",
    "\n",
    "if crop_size:\n",
    "    assort_sim = crop_center_array(assort_sim, crop_size, crop_size)\n",
    "    assort_meas = crop_center_array(assort_meas, crop_size, crop_size)\n",
    "    assort_index = crop_center_array(assort_index, crop_size, crop_size)\n",
    "    guide_image = crop_center_array(guide_image, crop_size, crop_size)\n",
    "\n",
    "if len(assort_sim.shape) == 2: assort_sim = np.expand_dims(assort_sim, 2)\n",
    "if len(assort_meas.shape) == 2: assort_meas = np.expand_dims(assort_meas, 2)\n",
    "if len(assort_index.shape) == 2: assort_index = np.expand_dims(assort_index, 2)\n",
    "\n",
    "assort_sim = assort_sim.transpose(2,0,1) \n",
    "assort_meas = assort_meas.transpose(2,0,1) \n",
    "assort_index = assort_index.transpose(2,0,1) \n",
    "guide_image = guide_image.transpose(2,0,1) \n",
    "\n",
    "assort_sim_t = torch.tensor(assort_sim, dtype=torch.float)\n",
    "assort_meas_t = torch.tensor(assort_meas, dtype=torch.float)\n",
    "assort_index_t = torch.tensor(assort_index, dtype=torch.float)\n",
    "guide_image_t = torch.tensor(guide_image, dtype=torch.float)\n",
    "    \n",
    "torch.save({'assort_sim': assort_sim_t.detach().clone(),\n",
    "            'assort_meas': assort_meas_t.detach().clone(),\n",
    "            'assort_index': assort_index_t.detach().clone(),\n",
    "            'guide_image': guide_image_t.detach().clone()\n",
    "           }, \n",
    "           os.path.join(SAVEPTHFILE_DIR, save_pthfile_test))\n"
   ],
   "outputs": [],
   "metadata": {
    "ExecuteTime": {
     "end_time": "2021-04-22T01:21:31.833130Z",
     "start_time": "2021-04-22T01:21:31.828598Z"
    },
    "execution": {
     "iopub.execute_input": "2021-08-07T02:17:49.976932Z",
     "iopub.status.busy": "2021-08-07T02:17:49.976484Z",
     "iopub.status.idle": "2021-08-07T02:17:56.284875Z",
     "shell.execute_reply": "2021-08-07T02:17:56.284048Z",
     "shell.execute_reply.started": "2021-08-07T02:17:49.976877Z"
    },
    "tags": []
   }
  }
 ],
 "metadata": {
  "kernelspec": {
   "display_name": "Python 3",
   "language": "python",
   "name": "python3"
  },
  "language_info": {
   "codemirror_mode": {
    "name": "ipython",
    "version": 3
   },
   "file_extension": ".py",
   "mimetype": "text/x-python",
   "name": "python",
   "nbconvert_exporter": "python",
   "pygments_lexer": "ipython3",
   "version": "3.7.9"
  },
  "toc": {
   "base_numbering": 1,
   "nav_menu": {
    "height": "320px",
    "width": "241px"
   },
   "number_sections": true,
   "sideBar": true,
   "skip_h1_title": false,
   "title_cell": "Table of Contents",
   "title_sidebar": "Contents",
   "toc_cell": false,
   "toc_position": {
    "height": "calc(100% - 180px)",
    "left": "10px",
    "top": "150px",
    "width": "286px"
   },
   "toc_section_display": true,
   "toc_window_display": false
  },
  "varInspector": {
   "cols": {
    "lenName": 16,
    "lenType": 16,
    "lenVar": 40
   },
   "kernels_config": {
    "python": {
     "delete_cmd_postfix": "",
     "delete_cmd_prefix": "del ",
     "library": "var_list.py",
     "varRefreshCmd": "print(var_dic_list())"
    },
    "r": {
     "delete_cmd_postfix": ") ",
     "delete_cmd_prefix": "rm(",
     "library": "var_list.r",
     "varRefreshCmd": "cat(var_dic_list()) "
    }
   },
   "position": {
    "height": "477.85px",
    "left": "1365px",
    "right": "20px",
    "top": "105px",
    "width": "446px"
   },
   "types_to_exclude": [
    "module",
    "function",
    "builtin_function_or_method",
    "instance",
    "_Feature"
   ],
   "window_display": false
  }
 },
 "nbformat": 4,
 "nbformat_minor": 5
}